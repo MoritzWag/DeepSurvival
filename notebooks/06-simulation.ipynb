{
 "cells": [
  {
   "cell_type": "code",
   "execution_count": 1,
   "metadata": {},
   "outputs": [],
   "source": [
    "import colorsys\n",
    "from typing import Iterable, Tuple\n",
    "\n",
    "import numpy as np\n",
    "from IPython.display import display\n",
    "from PIL import Image"
   ]
  },
  {
   "cell_type": "code",
   "execution_count": 2,
   "metadata": {},
   "outputs": [],
   "source": [
    "def rgb2hsl_fn(x):\n",
    "    return colorsys.rgb_to_hls(*x)\n",
    "\n",
    "\n",
    "def rgb2hsl(arr):\n",
    "    w, h, d = arr.shape\n",
    "    assert d == 3\n",
    "    return np.apply_along_axis(rgb2hsl_fn, 1, arr.reshape(-1, 3)).reshape(w, h, 3)\n",
    "\n",
    "\n",
    "def hsl2rgb_fn(x):\n",
    "    return colorsys.hls_to_rgb(*x)\n",
    "\n",
    "\n",
    "def hsl2rgb(arr):\n",
    "    w, h, d = arr.shape\n",
    "    assert d == 3\n",
    "    return np.apply_along_axis(hsl2rgb_fn, 1, arr.reshape(-1, 3)).reshape(w, h, 3)"
   ]
  },
  {
   "cell_type": "markdown",
   "metadata": {},
   "source": [
    "# Simulate Images and Survival Data\n",
    "\n",
    "Generate images with black square of different hue determining the risk score."
   ]
  },
  {
   "cell_type": "code",
   "execution_count": 3,
   "metadata": {},
   "outputs": [],
   "source": [
    "class ImageGenerator:\n",
    "    def __init__(self, img_size = (28, 28)) -> None:\n",
    "        self.img_size = img_size\n",
    "        self.length = 10\n",
    "        self.seed = 34734\n",
    "\n",
    "    def _set_random_rectangle(self, img: np.ndarray, color: float, random: np.random.RandomState) -> np.ndarray:\n",
    "        x = random.randint(self.length, self.img_size[0])\n",
    "        y = random.randint(self.img_size[1] - self.length)\n",
    "\n",
    "        img[x - self.length : x, y : y + self.length, :] = color\n",
    "        return img\n",
    "\n",
    "    def make_images(self, num_obs: int) -> Iterable[Tuple[np.ndarray, float]]:\n",
    "        random = np.random.RandomState(self.seed)\n",
    "\n",
    "        n_hues = 100\n",
    "        min_hue = 1\n",
    "        hue_increment = (360 - min_hue) / n_hues\n",
    "        hue_values = min_hue + np.arange(n_hues) * hue_increment\n",
    "\n",
    "        h_idx = random.randint(n_hues, size=num_obs)\n",
    "        color_h = hue_values[h_idx]\n",
    "\n",
    "        for h_channel in color_h:\n",
    "            color_rgb = colorsys.hls_to_rgb(h_channel / 360, 50 / 100, 100 / 100)\n",
    "\n",
    "            img = np.zeros(self.img_size + (3,), dtype=np.float32)\n",
    "            img = self._set_random_rectangle(img, color_rgb, random)\n",
    "\n",
    "            yield img, h_channel"
   ]
  },
  {
   "cell_type": "code",
   "execution_count": 4,
   "metadata": {},
   "outputs": [],
   "source": [
    "def hue_to_risk_score(hue: np.ndarray) -> np.ndarray:\n",
    "    min_l = np.min(hue)\n",
    "    max_l = np.max(hue)\n",
    "\n",
    "    unit_scaled = (hue + min_l) / (max_l - min_l)\n",
    "    # rescale to make differences between risk groups larger\n",
    "    rescale_factor = np.sqrt(2) * np.pi\n",
    "    return unit_scaled * rescale_factor\n",
    "\n",
    "\n",
    "class SurvivalGenerator:\n",
    "    def __init__(self, mean_survival_time: float = 20.0) -> None:\n",
    "        self.mean_survival_time = mean_survival_time\n",
    "        self.seed = 34734\n",
    "        self.quantile_censored = 0.925  # determines the amount of censoring\n",
    "\n",
    "    def make_survival_time(self, riskscores: np.ndarray) -> Tuple[np.ndarray, np.ndarray]:\n",
    "        random = np.random.RandomState(self.seed)\n",
    "\n",
    "        baseline_hazard = 1.0 / self.mean_survival_time\n",
    "        scale = baseline_hazard * np.exp(riskscores)\n",
    "        u = random.uniform(low=0, high=1, size=riskscores.shape[0])\n",
    "        t = -np.log(u) / scale\n",
    "\n",
    "        # generate time of censoring\n",
    "        qt = np.quantile(t, self.quantile_censored)\n",
    "        c = random.uniform(low=t.min(), high=qt)\n",
    "\n",
    "        observed_event = t <= c\n",
    "        observed_time = np.where(observed_event, t, c)\n",
    "        return observed_time, observed_event"
   ]
  },
  {
   "cell_type": "code",
   "execution_count": 5,
   "metadata": {},
   "outputs": [
    {
     "data": {
      "image/png": "[encoded data removed]",
      "text/plain": [
       "<PIL.Image.Image image mode=RGB size=28x28 at 0x7FF294181F90>"
      ]
     },
     "metadata": {},
     "output_type": "display_data"
    },
    {
     "data": {
      "image/png": "[encoded data removed]",
      "text/plain": [
       "<PIL.Image.Image image mode=RGB size=28x28 at 0x7FF294199110>"
      ]
     },
     "metadata": {},
     "output_type": "display_data"
    },
    {
     "data": {
      "image/png": "[encoded data removed]",
      "text/plain": [
       "<PIL.Image.Image image mode=RGB size=28x28 at 0x7FF294199190>"
      ]
     },
     "metadata": {},
     "output_type": "display_data"
    },
    {
     "data": {
      "image/png": "[encoded data removed]",
      "text/plain": [
       "<PIL.Image.Image image mode=RGB size=28x28 at 0x7FF294199210>"
      ]
     },
     "metadata": {},
     "output_type": "display_data"
    },
    {
     "data": {
      "image/png": "[encoded data removed]",
      "text/plain": [
       "<PIL.Image.Image image mode=RGB size=28x28 at 0x7FF294199290>"
      ]
     },
     "metadata": {},
     "output_type": "display_data"
    },
    {
     "data": {
      "image/png": "[encoded data removed]",
      "text/plain": [
       "<PIL.Image.Image image mode=RGB size=28x28 at 0x7FF294199390>"
      ]
     },
     "metadata": {},
     "output_type": "display_data"
    },
    {
     "data": {
      "image/png": "[encoded data removed]",
      "text/plain": [
       "<PIL.Image.Image image mode=RGB size=28x28 at 0x7FF294199410>"
      ]
     },
     "metadata": {},
     "output_type": "display_data"
    },
    {
     "data": {
      "image/png": "[encoded data removed]",
      "text/plain": [
       "<PIL.Image.Image image mode=RGB size=28x28 at 0x7FF294199490>"
      ]
     },
     "metadata": {},
     "output_type": "display_data"
    },
    {
     "data": {
      "image/png": "[encoded data removed]",
      "text/plain": [
       "<PIL.Image.Image image mode=RGB size=28x28 at 0x7FF294199510>"
      ]
     },
     "metadata": {},
     "output_type": "display_data"
    },
    {
     "data": {
      "image/png": "[encoded data removed]",
      "text/plain": [
       "<PIL.Image.Image image mode=RGB size=28x28 at 0x7FF294199310>"
      ]
     },
     "metadata": {},
     "output_type": "display_data"
    }
   ],
   "source": [
    "img_gen = ImageGenerator()\n",
    "images = []\n",
    "hues = []\n",
    "for arr, hue in img_gen.make_images(10000):\n",
    "    img = Image.fromarray((arr * 255).astype(np.uint8), mode=\"RGB\")\n",
    "    images.append(img)\n",
    "    hues.append(hue)\n",
    "\n",
    "for img in images[:10]:\n",
    "    display(img)\n",
    "\n",
    "del arr, hue, img, img_gen"
   ]
  },
  {
   "cell_type": "code",
   "execution_count": 6,
   "metadata": {},
   "outputs": [
    {
     "name": "stdout",
     "output_type": "stream",
     "text": [
      "Percentage of events: 0.4918\n"
     ]
    }
   ],
   "source": [
    "risk_scores = hue_to_risk_score(hues)\n",
    "\n",
    "surv_gen = SurvivalGenerator()\n",
    "surv_time, surv_status = surv_gen.make_survival_time(risk_scores)\n",
    "\n",
    "print(\"Percentage of events:\", surv_status.mean())\n",
    "\n",
    "del surv_gen"
   ]
  },
  {
   "cell_type": "markdown",
   "metadata": {},
   "source": [
    "## Plot overall survival function"
   ]
  },
  {
   "cell_type": "code",
   "execution_count": 7,
   "metadata": {},
   "outputs": [
    {
     "data": {
      "text/plain": [
       "(0.0, 1.0)"
      ]
     },
     "execution_count": 7,
     "metadata": {},
     "output_type": "execute_result"
    },
    {
     "data": {
      "image/png": "[encoded data removed]",
      "text/plain": [
       "<Figure size 432x288 with 1 Axes>"
      ]
     },
     "metadata": {
      "needs_background": "light"
     },
     "output_type": "display_data"
    }
   ],
   "source": [
    "import matplotlib.pyplot as plt\n",
    "%matplotlib inline\n",
    "\n",
    "from sksurv.nonparametric import kaplan_meier_estimator\n",
    "\n",
    "x, y = kaplan_meier_estimator(surv_status, surv_time)\n",
    "plt.step(x, y, where=\"post\")\n",
    "plt.ylim(0, 1)"
   ]
  },
  {
   "cell_type": "markdown",
   "metadata": {},
   "source": [
    "Performance with true risk scores."
   ]
  },
  {
   "cell_type": "code",
   "execution_count": 8,
   "metadata": {},
   "outputs": [],
   "source": [
    "from sksurv.metrics import concordance_index_ipcw\n",
    "from sksurv.util import Surv"
   ]
  },
  {
   "cell_type": "code",
   "execution_count": 9,
   "metadata": {},
   "outputs": [
    {
     "name": "stdout",
     "output_type": "stream",
     "text": [
      "(0.7867546831763486, 29017135, 7749011, 318033, 0)\n"
     ]
    }
   ],
   "source": [
    "y = Surv.from_arrays(event=surv_status, time=surv_time)\n",
    "cindex_known = concordance_index_ipcw(y, y, risk_scores)\n",
    "print(cindex_known)"
   ]
  },
  {
   "cell_type": "code",
   "execution_count": 10,
   "metadata": {},
   "outputs": [
    {
     "data": {
      "text/plain": [
       "4.467884389654714"
      ]
     },
     "execution_count": 10,
     "metadata": {},
     "output_type": "execute_result"
    }
   ],
   "source": [
    "risk_scores.max()"
   ]
  },
  {
   "cell_type": "markdown",
   "metadata": {},
   "source": [
    "# Create CNN"
   ]
  },
  {
   "cell_type": "code",
   "execution_count": 11,
   "metadata": {},
   "outputs": [],
   "source": [
    "import torch\n",
    "from sklearn.model_selection import train_test_split\n",
    "from torch import nn, optim\n",
    "from torch.utils.data import DataLoader, Dataset\n",
    "from torchvision import transforms\n",
    "from tqdm.notebook import tqdm\n",
    "\n",
    "from losses import CoxphLoss\n",
    "from models import MyCNN\n",
    "from surv_data import cox_collate_fn"
   ]
  },
  {
   "cell_type": "code",
   "execution_count": 12,
   "metadata": {},
   "outputs": [],
   "source": [
    "class SimulationData(Dataset):\n",
    "\n",
    "    def __init__(self, data):\n",
    "        self.data = data\n",
    "        self._image_transform = transforms.ToTensor()\n",
    "\n",
    "    def __getitem__(self, index):\n",
    "        img, event, time = self.data[index]\n",
    "        return self._image_transform(img), torch.tensor([event], dtype=torch.int8), torch.tensor(time, dtype=torch.float)\n",
    "\n",
    "    def __len__(self):\n",
    "        return len(self.data)\n",
    "\n",
    "    @property\n",
    "    def event(self):\n",
    "        return np.array([d[1] for d in self.data])\n",
    "\n",
    "    @property\n",
    "    def time(self):\n",
    "        return np.array([d[2] for d in self.data])"
   ]
  },
  {
   "cell_type": "markdown",
   "metadata": {},
   "source": [
    "### Create train and test datasets"
   ]
  },
  {
   "cell_type": "code",
   "execution_count": 13,
   "metadata": {},
   "outputs": [],
   "source": [
    "train_idx, test_idx = train_test_split(np.arange(len(images)), stratify=surv_status, test_size=0.2, random_state=0)\n",
    "\n",
    "train_data = SimulationData([(images[i], surv_status[i], surv_time[i]) for i in train_idx])\n",
    "test_data = SimulationData([(images[i], surv_status[i], surv_time[i]) for i in test_idx])\n",
    "\n",
    "train_loader = DataLoader(\n",
    "    train_data,\n",
    "    collate_fn=cox_collate_fn,\n",
    "    pin_memory=True,\n",
    "    batch_size=256,\n",
    "    shuffle=True,\n",
    "    drop_last=True,\n",
    "    num_workers=4,\n",
    ")\n",
    "test_loader = DataLoader(\n",
    "    test_data,\n",
    "    collate_fn=cox_collate_fn,\n",
    "    pin_memory=True,\n",
    "    batch_size=256,\n",
    ")"
   ]
  },
  {
   "cell_type": "markdown",
   "metadata": {},
   "source": [
    "### Train the model"
   ]
  },
  {
   "cell_type": "code",
   "execution_count": 14,
   "metadata": {},
   "outputs": [
    {
     "name": "stdout",
     "output_type": "stream",
     "text": [
      "MyCNN(\n",
      "  (conv1): Conv2d(3, 6, kernel_size=(5, 5), stride=(1, 1))\n",
      "  (conv1_relu): ReLU()\n",
      "  (conv1_s): Conv2d(6, 6, kernel_size=(5, 5), stride=(2, 2), padding=(2, 2))\n",
      "  (conv2): Conv2d(6, 16, kernel_size=(5, 5), stride=(1, 1), padding=(2, 2))\n",
      "  (conv2_relu): ReLU()\n",
      "  (conv2_s): Conv2d(16, 16, kernel_size=(5, 5), stride=(2, 2), padding=(2, 2))\n",
      "  (flatten): Flatten()\n",
      "  (dense1): Linear(in_features=576, out_features=120, bias=True)\n",
      "  (dense1_relu): ReLU()\n",
      "  (dense2): Linear(in_features=120, out_features=84, bias=True)\n",
      "  (dense2_relu): ReLU()\n",
      "  (dense3): Linear(in_features=84, out_features=1, bias=False)\n",
      ")\n"
     ]
    },
    {
     "data": {
      "application/vnd.jupyter.widget-view+json": {
       "model_id": "0c3c72f55a4b4ad79e4814c96b289827",
       "version_major": 2,
       "version_minor": 0
      },
      "text/plain": [
       "HBox(children=(FloatProgress(value=0.0), HTML(value='')))"
      ]
     },
     "metadata": {},
     "output_type": "display_data"
    },
    {
     "name": "stdout",
     "output_type": "stream",
     "text": [
      "\n"
     ]
    }
   ],
   "source": [
    "device = torch.device(\"cuda\")\n",
    "model = MyCNN(1)\n",
    "model = model.to(device)\n",
    "print(model)\n",
    "\n",
    "criterion = CoxphLoss()\n",
    "optimizer = optim.Adam(model.parameters(), lr=0.01)\n",
    "scheduler = optim.lr_scheduler.MultiStepLR(optimizer, milestones=[30, 60, 95], gamma=0.2)\n",
    "model.train()\n",
    "\n",
    "pbar = tqdm(range(100), total=100)\n",
    "for epoch in pbar:\n",
    "    mean_loss = 0.0\n",
    "    for batch_img, batch_event, batch_time, batch_riskset in train_loader:\n",
    "        batch_img = batch_img.to(device)\n",
    "        batch_event = batch_event.to(device)\n",
    "        batch_riskset = batch_riskset.to(device)\n",
    "\n",
    "        logits = model(batch_img)\n",
    "        loss = criterion(logits, batch_event, batch_riskset)\n",
    "\n",
    "        optimizer.zero_grad()\n",
    "        loss.backward()\n",
    "        optimizer.step()\n",
    "        scheduler.step()\n",
    "\n",
    "        mean_loss += loss.item()\n",
    "    mean_loss /= len(train_loader)\n",
    "    pbar.set_postfix({\"loss\": mean_loss})\n",
    "    pbar.update()\n",
    "\n",
    "del batch_img, batch_event, batch_time, batch_riskset, pbar, criterion, loss, logits, mean_loss, optimizer, scheduler"
   ]
  },
  {
   "cell_type": "markdown",
   "metadata": {},
   "source": [
    "### Evaluate the model"
   ]
  },
  {
   "cell_type": "code",
   "execution_count": 15,
   "metadata": {},
   "outputs": [],
   "source": [
    "model = model.eval()\n",
    "\n",
    "pred_risk_scores = []\n",
    "with torch.no_grad():\n",
    "    for batch_img, batch_event, batch_time, batch_riskset in test_loader:\n",
    "        batch_img = batch_img.to(device)\n",
    "\n",
    "        logits = model(batch_img)\n",
    "        pred_risk_scores.append(logits.squeeze(1).detach().cpu().numpy())\n",
    "\n",
    "pred_risk_scores = np.concatenate(pred_risk_scores)\n",
    "\n",
    "del batch_img, batch_event, batch_time, batch_riskset, logits"
   ]
  },
  {
   "cell_type": "markdown",
   "metadata": {},
   "source": [
    "Compare performance of CNN-predicted risk scores to performance on ground truth risk scores."
   ]
  },
  {
   "cell_type": "code",
   "execution_count": 16,
   "metadata": {},
   "outputs": [
    {
     "name": "stdout",
     "output_type": "stream",
     "text": [
      "0.7759360379673449 0.7867546831763486\n"
     ]
    }
   ],
   "source": [
    "test_y = Surv.from_arrays(event=test_loader.dataset.event, time=test_loader.dataset.time)\n",
    "cindex_pred = concordance_index_ipcw(y, test_y, pred_risk_scores)\n",
    "print(cindex_pred[0], cindex_known[0])"
   ]
  },
  {
   "cell_type": "markdown",
   "metadata": {},
   "source": [
    "# Attribution"
   ]
  },
  {
   "cell_type": "markdown",
   "metadata": {},
   "source": [
    "**The baseline is an all black image (zeros).**\n",
    "\n",
    "Compute the difference we are going to explain."
   ]
  },
  {
   "cell_type": "code",
   "execution_count": 26,
   "metadata": {},
   "outputs": [],
   "source": [
    "explain_loader = DataLoader(\n",
    "    [test_data[i] for i in range(5)],  # take first 5 samples of test data\n",
    "    collate_fn=cox_collate_fn,\n",
    "    pin_memory=True,\n",
    "    batch_size=5,\n",
    ")"
   ]
  },
  {
   "cell_type": "code",
   "execution_count": 18,
   "metadata": {},
   "outputs": [],
   "source": [
    "model = model.eval()\n",
    "with torch.no_grad():\n",
    "    baseline = torch.zeros(1, 3, 28, 28, device=device)\n",
    "    baseline_pred = model(baseline).squeeze().detach().cpu().numpy()\n",
    "\n",
    "# the difference SV explains: prediction(true image) - prediction(baseline_image)\n",
    "explain_delta = pred_risk_scores[:explain_loader.batch_size] - baseline_pred"
   ]
  },
  {
   "cell_type": "markdown",
   "metadata": {},
   "source": [
    "## Shapley Value Sampling\n",
    "\n",
    "> E. Štrumbelj and I. Kononenko, “Explaining prediction models and individual predictions with feature contributions,” Knowl. Inf. Syst., vol. 41, no. 3, pp. 647–665, Dec. 2014. [10.1007/s10115-013-0679-x](https://doi.org/10.1007/s10115-013-0679-x)"
   ]
  },
  {
   "cell_type": "code",
   "execution_count": 19,
   "metadata": {},
   "outputs": [],
   "source": [
    "def explain_sv_sampling(\n",
    "    model: nn.Module,\n",
    "    img_height: int,\n",
    "    img_width: int,\n",
    "    explain_loader: DataLoader,\n",
    "    n_steps: int = 1000\n",
    ") -> np.ndarray:\n",
    "    batch_size = explain_loader.batch_size\n",
    "\n",
    "    model = model.eval()\n",
    "\n",
    "    n_players =  img_height * img_width\n",
    "    pbar = tqdm(total=n_steps * n_players)\n",
    "    with torch.no_grad():\n",
    "        baseline = torch.zeros(1, 3, img_height, img_width, device=device).expand(\n",
    "            batch_size, -1, -1, -1)\n",
    "\n",
    "        # only use the first batch\n",
    "        batch = next(iter(explain_loader))\n",
    "        img = batch[0].to(device)\n",
    "\n",
    "        attributions = np.zeros(\n",
    "            (batch_size, img_height, img_width, 1), dtype=float\n",
    "        )\n",
    "        for _ in range(n_steps):\n",
    "            perm = torch.randperm(n_players, device=device)\n",
    "            img_in = baseline.repeat(2, 1, 1, 1)\n",
    "            for end in range(n_players):\n",
    "                idx = perm[end]\n",
    "                # img_in already includes real values that come before `j` in `perm`\n",
    "                # only need to add current point to first half\n",
    "                i, j = np.unravel_index(idx.detach().cpu().numpy(), (img_height, img_width))\n",
    "                img_in[:batch_size, :, i, j] = img[..., i, j]\n",
    "\n",
    "                pred = model(img_in)\n",
    "                pred_w_i, pred_wo_i = torch.chunk(pred, 2)\n",
    "                delta = pred_w_i - pred_wo_i\n",
    "\n",
    "                attributions[:, i, j] += delta.detach().cpu().numpy()\n",
    "\n",
    "                # add current point to second half, such that both parts are equal\n",
    "                img_in[batch_size:, :, i, j] = img[..., i, j]\n",
    "\n",
    "                pbar.update()\n",
    "\n",
    "        attributions /= n_steps\n",
    "\n",
    "    return attributions"
   ]
  },
  {
   "cell_type": "code",
   "execution_count": 20,
   "metadata": {},
   "outputs": [],
   "source": [
    "from matplotlib.colors import Normalize\n",
    "from matplotlib.cm import ScalarMappable\n",
    "\n",
    "\n",
    "def pil_image_iterator(data_loader):\n",
    "    with torch.no_grad():\n",
    "        convert_img = transforms.ToPILImage()\n",
    "        for batch_img, batch_event, batch_time, batch_riskset in data_loader:\n",
    "            for i in range(data_loader.batch_size):\n",
    "                img = convert_img(batch_img[i])\n",
    "                yield img\n",
    "\n",
    "\n",
    "def attributions_to_image(attributions):\n",
    "    assert attributions.ndim == 3\n",
    "    # map SV to RGBA\n",
    "    mapper = ScalarMappable(\n",
    "        Normalize(vmin=attributions.min(), vmax=attributions.max()),\n",
    "        cmap=\"inferno\"\n",
    "    )\n",
    "    images = tuple(\n",
    "        Image.fromarray(mapper.to_rgba(attr, bytes=True), mode=\"RGBA\")\n",
    "        for attr in attributions\n",
    "    )\n",
    "    return images"
   ]
  },
  {
   "cell_type": "markdown",
   "metadata": {},
   "source": [
    "⚠⚠⚠ **THIS WILL TAKE TIME** ⚠⚠⚠"
   ]
  },
  {
   "cell_type": "code",
   "execution_count": 21,
   "metadata": {},
   "outputs": [
    {
     "data": {
      "application/vnd.jupyter.widget-view+json": {
       "model_id": "c6f7727fd17742a6baca5c72c5dae437",
       "version_major": 2,
       "version_minor": 0
      },
      "text/plain": [
       "HBox(children=(FloatProgress(value=0.0, max=784000.0), HTML(value='')))"
      ]
     },
     "metadata": {},
     "output_type": "display_data"
    }
   ],
   "source": [
    "sv_sampling = explain_sv_sampling(model, 28, 28, explain_loader)"
   ]
  },
  {
   "cell_type": "markdown",
   "metadata": {},
   "source": [
    "Display heatmaps."
   ]
  },
  {
   "cell_type": "code",
   "execution_count": 22,
   "metadata": {},
   "outputs": [
    {
     "name": "stdout",
     "output_type": "stream",
     "text": [
      "\n"
     ]
    },
    {
     "data": {
      "image/png": "[encoded data removed]",
      "text/plain": [
       "<PIL.Image.Image image mode=RGB size=28x28 at 0x7FF21D71BED0>"
      ]
     },
     "metadata": {},
     "output_type": "display_data"
    },
    {
     "data": {
      "image/png": "[encoded data removed]",
      "text/plain": [
       "<PIL.Image.Image image mode=RGBA size=28x28 at 0x7FF21D71BA90>"
      ]
     },
     "metadata": {},
     "output_type": "display_data"
    },
    {
     "name": "stdout",
     "output_type": "stream",
     "text": [
      "Completness Δ = 0.0\n"
     ]
    },
    {
     "data": {
      "image/png": "[encoded data removed]",
      "text/plain": [
       "<PIL.Image.Image image mode=RGB size=28x28 at 0x7FF21DCDF3D0>"
      ]
     },
     "metadata": {},
     "output_type": "display_data"
    },
    {
     "data": {
      "image/png": "[encoded data removed]",
      "text/plain": [
       "<PIL.Image.Image image mode=RGBA size=28x28 at 0x7FF21DB68290>"
      ]
     },
     "metadata": {},
     "output_type": "display_data"
    },
    {
     "name": "stdout",
     "output_type": "stream",
     "text": [
      "Completness Δ = 0.0\n"
     ]
    },
    {
     "data": {
      "image/png": "[encoded data removed]",
      "text/plain": [
       "<PIL.Image.Image image mode=RGB size=28x28 at 0x7FF21DC6C390>"
      ]
     },
     "metadata": {},
     "output_type": "display_data"
    },
    {
     "data": {
      "image/png": "[encoded data removed]",
      "text/plain": [
       "<PIL.Image.Image image mode=RGBA size=28x28 at 0x7FF21DB68B90>"
      ]
     },
     "metadata": {},
     "output_type": "display_data"
    },
    {
     "name": "stdout",
     "output_type": "stream",
     "text": [
      "Completness Δ = 2.0816681711721685e-17\n"
     ]
    },
    {
     "data": {
      "image/png": "[encoded data removed]",
      "text/plain": [
       "<PIL.Image.Image image mode=RGB size=28x28 at 0x7FF21DCDF050>"
      ]
     },
     "metadata": {},
     "output_type": "display_data"
    },
    {
     "data": {
      "image/png": "[encoded data removed]",
      "text/plain": [
       "<PIL.Image.Image image mode=RGBA size=28x28 at 0x7FF21DB5FA50>"
      ]
     },
     "metadata": {},
     "output_type": "display_data"
    },
    {
     "name": "stdout",
     "output_type": "stream",
     "text": [
      "Completness Δ = 0.0\n"
     ]
    },
    {
     "data": {
      "image/png": "[encoded data removed]",
      "text/plain": [
       "<PIL.Image.Image image mode=RGB size=28x28 at 0x7FF21DCDF590>"
      ]
     },
     "metadata": {},
     "output_type": "display_data"
    },
    {
     "data": {
      "image/png": "[encoded data removed]",
      "text/plain": [
       "<PIL.Image.Image image mode=RGBA size=28x28 at 0x7FF21DB5F990>"
      ]
     },
     "metadata": {},
     "output_type": "display_data"
    },
    {
     "name": "stdout",
     "output_type": "stream",
     "text": [
      "Completness Δ = 0.0\n"
     ]
    }
   ],
   "source": [
    "for sv, sv_image, input_image, delta in zip(\n",
    "    sv_sampling.squeeze(-1),\n",
    "    attributions_to_image(sv_sampling.squeeze(-1)),\n",
    "    pil_image_iterator(explain_loader),\n",
    "    explain_delta\n",
    "):\n",
    "    display(input_image)\n",
    "    display(sv_image)\n",
    "    print(\"Completness Δ =\", np.absolute(sv.sum() - delta))\n",
    "\n",
    "del sv, sv_image, input_image, delta "
   ]
  },
  {
   "cell_type": "markdown",
   "metadata": {},
   "source": [
    "## Integrated Gradients\n",
    "\n",
    "> M. Sundararajan, A. Taly, and Q. Yan, “Axiomatic Attribution for Deep Networks,” in Proceedings of the 34th International Conference on Machine Learning, 2017, pp. 3319--3328. http://arxiv.org/abs/1703.01365\n",
    "\n",
    "$$\n",
    "(x_i - x_i^\\prime) \\cdot \\frac{1}{m} \\sum_{k=1}^m \\frac{ \\partial F(x^\\prime + \\frac{k}{m} (x - x^\\prime)) }\n",
    "{ \\partial x_i }\n",
    "$$"
   ]
  },
  {
   "cell_type": "code",
   "execution_count": 36,
   "metadata": {},
   "outputs": [],
   "source": [
    "def integrated_gradients(\n",
    "    model: nn.Module,\n",
    "    explain_loader: DataLoader,\n",
    "    n_steps: int = 100,\n",
    "    output_idx: int = 0\n",
    ") -> np.ndarray:\n",
    "    model = model.eval()\n",
    "    batch_size = explain_loader.batch_size\n",
    "\n",
    "    baseline = torch.zeros(1, 3, 28, 28, device=device)\n",
    "    alphas = torch.linspace(0, 1, n_steps, device=device).view(-1, 1, 1, 1)\n",
    "\n",
    "    # only use the first batch\n",
    "    batch = next(iter(explain_loader))\n",
    "    img = batch[0].to(device)\n",
    "\n",
    "    inputs = tuple(\n",
    "        (xp.unsqueeze(dim=0) + (x - xp).unsqueeze(dim=0) * alphas).requires_grad_()  # shape = n_steps, 3, 28, 28\n",
    "        for x, xp in zip(img, baseline.expand_as(img))\n",
    "    )\n",
    "\n",
    "    with torch.autograd.set_grad_enabled(True):\n",
    "        outputs = model(torch.cat(inputs, dim=0))\n",
    "        # Computes and returns the sum of gradients of outputs w.r.t. the inputs\n",
    "        grads = torch.autograd.grad(torch.unbind(outputs[:, output_idx]), inputs)\n",
    "\n",
    "    assert len(grads) == batch_size\n",
    "    assert grads[0].size()[0] == n_steps\n",
    "\n",
    "    img_baseline_diff = img - baseline  # shape (batch_size, 3, 28, 28)\n",
    "    # average over alphas\n",
    "    attributions = torch.stack([grad.mean(dim=0) for grad in grads])\n",
    "    attributions *= img_baseline_diff\n",
    "    attributions = attributions.detach().cpu().numpy()\n",
    "    \n",
    "    return attributions"
   ]
  },
  {
   "cell_type": "code",
   "execution_count": 37,
   "metadata": {},
   "outputs": [],
   "source": [
    "ig_attributions = integrated_gradients(model, explain_loader, n_steps=10000)\n",
    "ig_attributions = ig_attributions.sum(axis=1)  # sum over channel dimension"
   ]
  },
  {
   "cell_type": "markdown",
   "metadata": {},
   "source": [
    "Display heatmaps."
   ]
  },
  {
   "cell_type": "code",
   "execution_count": 38,
   "metadata": {},
   "outputs": [
    {
     "data": {
      "image/png": "[encoded data removed]",
      "text/plain": [
       "<PIL.Image.Image image mode=RGB size=28x28 at 0x7FF21454FB10>"
      ]
     },
     "metadata": {},
     "output_type": "display_data"
    },
    {
     "data": {
      "image/png": "[encoded data removed]",
      "text/plain": [
       "<PIL.Image.Image image mode=RGBA size=28x28 at 0x7FF21454FA90>"
      ]
     },
     "metadata": {},
     "output_type": "display_data"
    },
    {
     "name": "stdout",
     "output_type": "stream",
     "text": [
      "Completness Δ = 0.000495702\n"
     ]
    },
    {
     "data": {
      "image/png": "[encoded data removed]",
      "text/plain": [
       "<PIL.Image.Image image mode=RGB size=28x28 at 0x7FF21DB68ED0>"
      ]
     },
     "metadata": {},
     "output_type": "display_data"
    },
    {
     "data": {
      "image/png": "[encoded data removed]",
      "text/plain": [
       "<PIL.Image.Image image mode=RGBA size=28x28 at 0x7FF26E475290>"
      ]
     },
     "metadata": {},
     "output_type": "display_data"
    },
    {
     "name": "stdout",
     "output_type": "stream",
     "text": [
      "Completness Δ = 0.0013535023\n"
     ]
    },
    {
     "data": {
      "image/png": "[encoded data removed]",
      "text/plain": [
       "<PIL.Image.Image image mode=RGB size=28x28 at 0x7FF21DB5F510>"
      ]
     },
     "metadata": {},
     "output_type": "display_data"
    },
    {
     "data": {
      "image/png": "[encoded data removed]",
      "text/plain": [
       "<PIL.Image.Image image mode=RGBA size=28x28 at 0x7FF26E475E10>"
      ]
     },
     "metadata": {},
     "output_type": "display_data"
    },
    {
     "name": "stdout",
     "output_type": "stream",
     "text": [
      "Completness Δ = 0.00046651438\n"
     ]
    },
    {
     "data": {
      "image/png": "[encoded data removed]",
      "text/plain": [
       "<PIL.Image.Image image mode=RGB size=28x28 at 0x7FF21DB68910>"
      ]
     },
     "metadata": {},
     "output_type": "display_data"
    },
    {
     "data": {
      "image/png": "[encoded data removed]",
      "text/plain": [
       "<PIL.Image.Image image mode=RGBA size=28x28 at 0x7FF26E475E50>"
      ]
     },
     "metadata": {},
     "output_type": "display_data"
    },
    {
     "name": "stdout",
     "output_type": "stream",
     "text": [
      "Completness Δ = 0.0006260872\n"
     ]
    },
    {
     "data": {
      "image/png": "[encoded data removed]",
      "text/plain": [
       "<PIL.Image.Image image mode=RGB size=28x28 at 0x7FF21DB68150>"
      ]
     },
     "metadata": {},
     "output_type": "display_data"
    },
    {
     "data": {
      "image/png": "[encoded data removed]",
      "text/plain": [
       "<PIL.Image.Image image mode=RGBA size=28x28 at 0x7FF21454F050>"
      ]
     },
     "metadata": {},
     "output_type": "display_data"
    },
    {
     "name": "stdout",
     "output_type": "stream",
     "text": [
      "Completness Δ = 0.0007176399\n"
     ]
    }
   ],
   "source": [
    "for ig, ig_image, input_image, delta in zip(\n",
    "    ig_attributions,\n",
    "    attributions_to_image(ig_attributions),\n",
    "    pil_image_iterator(explain_loader),\n",
    "    explain_delta\n",
    "):\n",
    "    display(input_image)\n",
    "    display(ig_image)\n",
    "    print(\"Completness Δ =\", np.absolute(ig.sum() - delta))\n",
    "    \n",
    "del ig, ig_image, input_image, delta"
   ]
  },
  {
   "cell_type": "code",
   "execution_count": null,
   "metadata": {},
   "outputs": [],
   "source": []
  }
 ],
 "metadata": {
  "kernelspec": {
   "display_name": "Python 3.7.7 (mesh)",
   "language": "python",
   "name": "python3-mesh"
  },
  "language_info": {
   "codemirror_mode": {
    "name": "ipython",
    "version": 3
   },
   "file_extension": ".py",
   "mimetype": "text/x-python",
   "name": "python",
   "nbconvert_exporter": "python",
   "pygments_lexer": "ipython3",
   "version": "3.7.7"
  }
 },
 "nbformat": 4,
 "nbformat_minor": 4
}