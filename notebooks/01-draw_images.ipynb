{
 "metadata": {
  "language_info": {
   "codemirror_mode": {
    "name": "ipython",
    "version": 3
   },
   "file_extension": ".py",
   "mimetype": "text/x-python",
   "name": "python",
   "nbconvert_exporter": "python",
   "pygments_lexer": "ipython3",
   "version": "3.7.9-final"
  },
  "orig_nbformat": 2,
  "kernelspec": {
   "name": "python3",
   "display_name": "Python 3",
   "language": "python"
  }
 },
 "nbformat": 4,
 "nbformat_minor": 2,
 "cells": [
  {
   "cell_type": "code",
   "execution_count": 31,
   "metadata": {},
   "outputs": [],
   "source": [
    "import os \n",
    "import cv2\n",
    "import numpy as np\n",
    "import matplotlib.pyplot as plt\n",
    "import importlib\n",
    "import torch\n",
    "#importlib.reload(src.data.utils)\n",
    "from src.data.sim_coxph import triangle_mask, circle_mask\n",
    "from torchvision.utils import save_image\n",
    "\n"
   ]
  },
  {
   "cell_type": "code",
   "execution_count": 32,
   "metadata": {},
   "outputs": [],
   "source": [
    "def rectangle_mask(img_size, \n",
    "                   length,\n",
    "                   color,\n",
    "                   n_dim,\n",
    "                   pos_random=True,\n",
    "                   seed=1328):\n",
    "\n",
    "    random = np.random.RandomState(seed)\n",
    "    if n_dim == 1:\n",
    "        img = np.zeros((n_dim, img_size, img_size), dtype='float32')\n",
    "    else:\n",
    "        img = np.zeros((img_size, img_size, n_dim), dtype='float32')\n",
    "\n",
    "    if pos_random is False:\n",
    "        upper_corner = (14, 14)\n",
    "        lower_corner = (10, 10)\n",
    "    else:\n",
    "        height = random.randint(img_size, size=1)[0]\n",
    "        width = random.randint(img_size-length, size=1)[0]\n",
    "        upper_corner = (height, width)\n",
    "    if n_dim == 1:\n",
    "        img[:, upper_corner[0]- length: upper_corner[0], upper_corner[1]:upper_corner[1]+length] = color\n",
    "    else:\n",
    "        # pdb.set_trace()\n",
    "        # lower_corner = (upper_corner[0]-length, upper_corner[1]-length)\n",
    "        # img = cv2.rectangle(img, lower_corner, upper_corner, color, thickness=-1)\n",
    "        # img = img.reshape(n_dim, img_size, img_size)\n",
    "\n",
    "        left_corner = [14, 14]\n",
    "        # points = np.array([[left_corner[0], left_corner[1]],\n",
    "        #                 [left_corner[0] + 10, left_corner[1]],\n",
    "        #                 [left_corner[0], left_corner[1] + 10],\n",
    "        #                 [left_corner[0] + 10, left_corner[1] + 10]], np.int32)\n",
    "        points = np.array([[left_corner[0], left_corner[1]],\n",
    "                        [left_corner[0], left_corner[1] + length],\n",
    "                        [left_corner[0] + length, left_corner[1] + length],\n",
    "                        [left_corner[0] + length, left_corner[1]]], np.int32)\n",
    "\n",
    "        \n",
    "        image = cv2.fillPoly(img, [points], color=color)\n",
    "        img = image.reshape(n_dim, img_size, img_size)\n",
    "\n",
    "    return img "
   ]
  },
  {
   "cell_type": "code",
   "execution_count": 37,
   "metadata": {},
   "outputs": [],
   "source": [
    "# color_1 = (3, 34, 174)\n",
    "# color_2 = (153, 230, 104)\n",
    "# color_3 = (88, 196, 207)\n",
    "# color_4 = (220, 47, 84)\n",
    "color_1 = (0, 0, 0)\n",
    "color_2 = (64, 64, 64)\n",
    "color_3 = (128, 128, 128)\n",
    "color_4 = (255, 255, 255)"
   ]
  },
  {
   "cell_type": "code",
   "execution_count": 38,
   "metadata": {},
   "outputs": [
    {
     "output_type": "stream",
     "name": "stdout",
     "text": [
      "worked triangle\nworked circle\nworked triangle\nworked circle\nworked triangle\n"
     ]
    }
   ],
   "source": [
    "img_triangle = triangle_mask(img_size=28, length=4, color=(255, 0, 0), n_dim=3, pos_random=True)\n",
    "img_circle = circle_mask(img_size=28, center=14, radius=4, color=(0, 128, 128), n_dim=3)\n",
    "img_rectangle = rectangle_mask(img_size=28, length=4, color=(0, 128, 0), n_dim=3)\n",
    "\n",
    "img_1 = triangle_mask(img_size=28, length=4, color=color_1, n_dim=3, pos_random=True)\n",
    "img_2  = circle_mask(img_size=28, center=14, radius=4, color=color_2, n_dim=3)\n",
    "img_3 = rectangle_mask(img_size=28, length=4, color=color_3, n_dim=3)\n",
    "img_4 =  triangle_mask(img_size=28, length=4, color=color_4, n_dim=3, pos_random=True)"
   ]
  },
  {
   "cell_type": "code",
   "execution_count": 39,
   "metadata": {},
   "outputs": [],
   "source": [
    "img_triangle = img_triangle.reshape(28, 28, 3)\n",
    "img_circle = img_circle.reshape(28, 28, 3)\n",
    "img_rectangle = img_rectangle.reshape(28, 28, 3)\n",
    "\n",
    "img_1 = img_1.reshape(28, 28, 3)\n",
    "img_2 = img_2.reshape(28, 28, 3)\n",
    "img_3 = img_3.reshape(28, 28, 3)\n",
    "img_4 = img_4.reshape(28, 28, 3)"
   ]
  },
  {
   "cell_type": "code",
   "execution_count": 40,
   "metadata": {},
   "outputs": [
    {
     "output_type": "execute_result",
     "data": {
      "text/plain": [
       "(0.0, 1.0, 0.0, 1.0)"
      ]
     },
     "metadata": {},
     "execution_count": 40
    },
    {
     "output_type": "display_data",
     "data": {
      "text/plain": "<Figure size 432x288 with 1 Axes>",
      "image/png": "[encoded data removed]"
     },
     "metadata": {
      "needs_background": "light"
     }
    }
   ],
   "source": [
    "plt.axis('off')"
   ]
  },
  {
   "cell_type": "code",
   "execution_count": 41,
   "metadata": {},
   "outputs": [
    {
     "output_type": "stream",
     "name": "stderr",
     "text": [
      "Clipping input data to the valid range for imshow with RGB data ([0..1] for floats or [0..255] for integers).\n"
     ]
    },
    {
     "output_type": "execute_result",
     "data": {
      "text/plain": [
       "<matplotlib.image.AxesImage at 0x7f2a8dac8f90>"
      ]
     },
     "metadata": {},
     "execution_count": 41
    },
    {
     "output_type": "display_data",
     "data": {
      "text/plain": "<Figure size 432x288 with 1 Axes>",
      "image/png": "[encoded data removed]"
     },
     "metadata": {
      "needs_background": "light"
     }
    }
   ],
   "source": [
    "plt.imshow(img_triangle)\n"
   ]
  },
  {
   "cell_type": "code",
   "execution_count": 42,
   "metadata": {},
   "outputs": [
    {
     "output_type": "stream",
     "name": "stderr",
     "text": [
      "Clipping input data to the valid range for imshow with RGB data ([0..1] for floats or [0..255] for integers).\n"
     ]
    },
    {
     "output_type": "execute_result",
     "data": {
      "text/plain": [
       "<matplotlib.image.AxesImage at 0x7f2a8da2e950>"
      ]
     },
     "metadata": {},
     "execution_count": 42
    },
    {
     "output_type": "display_data",
     "data": {
      "text/plain": "<Figure size 432x288 with 1 Axes>",
      "image/png": "[encoded data removed]"
     },
     "metadata": {
      "needs_background": "light"
     }
    }
   ],
   "source": [
    "plt.imshow(img_circle)"
   ]
  },
  {
   "cell_type": "code",
   "execution_count": 43,
   "metadata": {},
   "outputs": [
    {
     "output_type": "stream",
     "name": "stderr",
     "text": [
      "Clipping input data to the valid range for imshow with RGB data ([0..1] for floats or [0..255] for integers).\n"
     ]
    },
    {
     "output_type": "execute_result",
     "data": {
      "text/plain": [
       "<matplotlib.image.AxesImage at 0x7f2a8da07b50>"
      ]
     },
     "metadata": {},
     "execution_count": 43
    },
    {
     "output_type": "display_data",
     "data": {
      "text/plain": "<Figure size 432x288 with 1 Axes>",
      "image/png": "[encoded data removed]"
     },
     "metadata": {
      "needs_background": "light"
     }
    }
   ],
   "source": [
    "plt.imshow(img_rectangle)   "
   ]
  },
  {
   "cell_type": "code",
   "execution_count": 13,
   "metadata": {},
   "outputs": [
    {
     "output_type": "execute_result",
     "data": {
      "text/plain": [
       "<matplotlib.image.AxesImage at 0x7f2a8de3fe50>"
      ]
     },
     "metadata": {},
     "execution_count": 13
    },
    {
     "output_type": "display_data",
     "data": {
      "text/plain": "<Figure size 432x288 with 1 Axes>",
      "image/png": "[encoded data removed]"
     },
     "metadata": {
      "needs_background": "light"
     }
    }
   ],
   "source": [
    "plt.imshow(img_1)"
   ]
  },
  {
   "cell_type": "code",
   "execution_count": 44,
   "metadata": {},
   "outputs": [
    {
     "output_type": "stream",
     "name": "stderr",
     "text": [
      "Clipping input data to the valid range for imshow with RGB data ([0..1] for floats or [0..255] for integers).\n"
     ]
    },
    {
     "output_type": "execute_result",
     "data": {
      "text/plain": [
       "<matplotlib.image.AxesImage at 0x7f2a8d987610>"
      ]
     },
     "metadata": {},
     "execution_count": 44
    },
    {
     "output_type": "display_data",
     "data": {
      "text/plain": "<Figure size 432x288 with 1 Axes>",
      "image/png": "[encoded data removed]"
     },
     "metadata": {
      "needs_background": "light"
     }
    }
   ],
   "source": [
    "plt.imshow(img_2)"
   ]
  },
  {
   "cell_type": "code",
   "execution_count": 15,
   "metadata": {},
   "outputs": [
    {
     "output_type": "stream",
     "name": "stderr",
     "text": [
      "Clipping input data to the valid range for imshow with RGB data ([0..1] for floats or [0..255] for integers).\n"
     ]
    },
    {
     "output_type": "execute_result",
     "data": {
      "text/plain": [
       "<matplotlib.image.AxesImage at 0x7f2a8dd0cd10>"
      ]
     },
     "metadata": {},
     "execution_count": 15
    },
    {
     "output_type": "display_data",
     "data": {
      "text/plain": "<Figure size 432x288 with 1 Axes>",
      "image/png": "[encoded data removed]"
     },
     "metadata": {
      "needs_background": "light"
     }
    }
   ],
   "source": [
    "plt.imshow(img_3)"
   ]
  },
  {
   "cell_type": "code",
   "execution_count": 16,
   "metadata": {},
   "outputs": [
    {
     "output_type": "stream",
     "name": "stderr",
     "text": [
      "Clipping input data to the valid range for imshow with RGB data ([0..1] for floats or [0..255] for integers).\n"
     ]
    },
    {
     "output_type": "execute_result",
     "data": {
      "text/plain": [
       "<matplotlib.image.AxesImage at 0x7f2a8dd01490>"
      ]
     },
     "metadata": {},
     "execution_count": 16
    },
    {
     "output_type": "display_data",
     "data": {
      "text/plain": "<Figure size 432x288 with 1 Axes>",
      "image/png": "[encoded data removed]"
     },
     "metadata": {
      "needs_background": "light"
     }
    }
   ],
   "source": [
    "plt.imshow(img_4)"
   ]
  },
  {
   "cell_type": "code",
   "execution_count": 17,
   "metadata": {},
   "outputs": [],
   "source": [
    "def circle_mask2(img_size, center, radius, color, n_dim, pos_random=True, seed=1328):\n",
    "    random = np.random.RandomState(seed)\n",
    "    img = np.zeros((img_size, img_size, n_dim), dtype='float32')\n",
    "    if pos_random is False:\n",
    "        center = center\n",
    "    else:\n",
    "        center = (random.randint(img_size - radius, size=1)[0], random.randint(img_size - radius, size=1)[0])\n",
    "    \n",
    "    img = cv2.circle(img, center, radius, color, thickness=-1)\n",
    "\n",
    "    image = img.reshape(n_dim, img_size, img_size)\n",
    "\n",
    "    print(\"test sssss worked circle\")\n",
    "\n",
    "    return image\n",
    "\n"
   ]
  },
  {
   "cell_type": "code",
   "execution_count": 18,
   "metadata": {},
   "outputs": [
    {
     "output_type": "stream",
     "name": "stdout",
     "text": [
      "test sssss worked circle\n"
     ]
    }
   ],
   "source": [
    "img_circle_test = circle_mask2(img_size=28, center=14, radius=5, color=(220, 47, 84), n_dim=3, pos_random=True)"
   ]
  },
  {
   "cell_type": "code",
   "execution_count": 19,
   "metadata": {},
   "outputs": [],
   "source": [
    "img_circle_test = img_circle_test.reshape(28, 28, 3)"
   ]
  },
  {
   "cell_type": "code",
   "execution_count": 20,
   "metadata": {},
   "outputs": [
    {
     "output_type": "stream",
     "name": "stderr",
     "text": [
      "Clipping input data to the valid range for imshow with RGB data ([0..1] for floats or [0..255] for integers).\n"
     ]
    },
    {
     "output_type": "execute_result",
     "data": {
      "text/plain": [
       "<matplotlib.image.AxesImage at 0x7f2a8dc6abd0>"
      ]
     },
     "metadata": {},
     "execution_count": 20
    },
    {
     "output_type": "display_data",
     "data": {
      "text/plain": "<Figure size 432x288 with 1 Axes>",
      "image/png": "[encoded data removed]"
     },
     "metadata": {
      "needs_background": "light"
     }
    }
   ],
   "source": [
    "plt.imshow(img_circle_test)"
   ]
  },
  {
   "cell_type": "code",
   "execution_count": 21,
   "metadata": {},
   "outputs": [],
   "source": [
    "def minmax_normalize(x, lower_bound=None, upper_bound=None):\n",
    "    \"\"\"\n",
    "    Normalize a provided array to 0-1 range.\n",
    "\n",
    "    Normalize a provided array to 0-1 range.\n",
    "    :param x: Input array\n",
    "    :param lower_bound: Optional lower bound. Takes minimum of x if not provided.\n",
    "    :param upper_bound: Optional upper bound. Takes maximum of x if not provided.\n",
    "    :return: Normalized array\n",
    "    \"\"\"\n",
    "    if lower_bound is None:\n",
    "        lower_bound = np.min(x)\n",
    "\n",
    "    if upper_bound is None:\n",
    "        upper_bound = np.max(x)\n",
    "\n",
    "    return (x - lower_bound) / (upper_bound - lower_bound)\n"
   ]
  },
  {
   "cell_type": "code",
   "execution_count": 22,
   "metadata": {},
   "outputs": [],
   "source": [
    "circle_norm = minmax_normalize(img_circle_test)"
   ]
  },
  {
   "cell_type": "code",
   "execution_count": 23,
   "metadata": {},
   "outputs": [
    {
     "output_type": "execute_result",
     "data": {
      "text/plain": [
       "<matplotlib.image.AxesImage at 0x7f2a8dbda390>"
      ]
     },
     "metadata": {},
     "execution_count": 23
    },
    {
     "output_type": "display_data",
     "data": {
      "text/plain": "<Figure size 432x288 with 1 Axes>",
      "image/png": "[encoded data removed]"
     },
     "metadata": {
      "needs_background": "light"
     }
    }
   ],
   "source": [
    "plt.imshow(circle_norm)"
   ]
  },
  {
   "cell_type": "code",
   "execution_count": 24,
   "metadata": {},
   "outputs": [],
   "source": [
    "circle_norm = cv2.cvtColor(circle_norm, cv2.COLOR_BGR2RGB)"
   ]
  },
  {
   "cell_type": "code",
   "execution_count": 25,
   "metadata": {},
   "outputs": [
    {
     "output_type": "execute_result",
     "data": {
      "text/plain": [
       "torch.Size([3, 28, 28])"
      ]
     },
     "metadata": {},
     "execution_count": 25
    }
   ],
   "source": [
    "# circle_norm_torch = torch.from_numpy(circle_norm)\n",
    "circle_norm_torch = torch.Tensor(circle_norm)\n",
    "circle_norm_torch = circle_norm_torch.reshape(3, 28, 28)\n",
    "circle_norm_torch.shape\n"
   ]
  },
  {
   "cell_type": "code",
   "execution_count": 26,
   "metadata": {},
   "outputs": [],
   "source": [
    "save_image(circle_norm_torch, \"circle_norm.png\")"
   ]
  },
  {
   "cell_type": "code",
   "execution_count": 27,
   "metadata": {},
   "outputs": [],
   "source": [
    "img_4_torch = torch.Tensor(img_circle)\n",
    "img_4_torch = img_4_torch.reshape(3, 28, 28)\n"
   ]
  },
  {
   "cell_type": "code",
   "execution_count": 28,
   "metadata": {},
   "outputs": [],
   "source": [
    "save_image(img_4_torch, \"img_4_torch.png\")"
   ]
  },
  {
   "cell_type": "code",
   "execution_count": null,
   "metadata": {},
   "outputs": [],
   "source": []
  }
 ]
}