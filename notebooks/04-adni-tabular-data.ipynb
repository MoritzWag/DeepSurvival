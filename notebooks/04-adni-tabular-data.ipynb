{
 "cells": [
  {
   "cell_type": "code",
   "execution_count": 1,
   "metadata": {},
   "outputs": [],
   "source": [
    "import pandas as pd\n",
    "import h5py\n",
    "from itkwidgets import compare, view, cm"
   ]
  },
  {
   "cell_type": "code",
   "execution_count": 2,
   "metadata": {},
   "outputs": [
    {
     "name": "stdout",
     "output_type": "stream",
     "text": [
      "total 3.0G\r\n",
      "-rw-r--r-- 1 sebastian users 591M Jan 22 11:48 0-test.h5\r\n",
      "-rw-r--r-- 1 sebastian users 1.9G Jan 22 11:45 0-train.h5\r\n",
      "-rw-r--r-- 1 sebastian users 479M Jan 22 11:50 0-valid.h5\r\n"
     ]
    }
   ],
   "source": [
    "!ls -lh /mnt/nas/Users/Sebastian/adni-survival-volumes/with-nonimage/"
   ]
  },
  {
   "cell_type": "code",
   "execution_count": 3,
   "metadata": {},
   "outputs": [],
   "source": [
    "filename = \"/mnt/nas/Users/Sebastian/adni-survival-volumes/with-nonimage/0-train.h5\"\n",
    "\n",
    "data = []\n",
    "with h5py.File(filename, mode=\"r\") as fin:\n",
    "    # name of features\n",
    "    columns = [x.decode(\"utf8\") for x in fin[\"stats\"][\"tabular\"][\"columns\"]]\n",
    "    for i, (image_id, grp) in enumerate(fin.items()):\n",
    "#         print(grp.attrs[\"RID\"], grp.attrs[\"VISCODE\"])\n",
    "        \n",
    "        img = grp[\"norm_wimt_converted\"][:]\n",
    "        # get event indicator and observed time\n",
    "        is_event, observed_time = grp.attrs[\"event\"], grp.attrs[\"time\"]\n",
    "\n",
    "        # values of features\n",
    "        features = pd.Series(grp[\"tabular\"][:], index=columns)\n",
    "        \n",
    "        data.append((img, features, is_event, observed_time))\n",
    "        if i == 5:\n",
    "            break"
   ]
  },
  {
   "cell_type": "code",
   "execution_count": 4,
   "metadata": {},
   "outputs": [
    {
     "name": "stdout",
     "output_type": "stream",
     "text": [
      "no 372.0 (128, 160, 128)\n"
     ]
    },
    {
     "data": {
      "text/plain": [
       "C(PTGENDER)[T.Male]       1.00000\n",
       "C(ABETA_MISSING)[T.1]     1.00000\n",
       "C(TAU_MISSING)[T.1]       1.00000\n",
       "C(PTAU_MISSING)[T.1]      1.00000\n",
       "C(FDG_MISSING)[T.1]       0.00000\n",
       "C(AV45_MISSING)[T.1]      0.00000\n",
       "real_age                 68.70000\n",
       "PTEDUCAT                 19.00000\n",
       "APOE4                     2.00000\n",
       "ABETA                     0.00000\n",
       "TAU                       0.00000\n",
       "PTAU                      0.00000\n",
       "FDG                       1.19245\n",
       "AV45                      1.25718\n",
       "dtype: float64"
      ]
     },
     "execution_count": 4,
     "metadata": {},
     "output_type": "execute_result"
    }
   ],
   "source": [
    "img, features, is_event, observed_time = data[0]\n",
    "print(is_event, observed_time, img.shape)\n",
    "features"
   ]
  },
  {
   "cell_type": "code",
   "execution_count": 7,
   "metadata": {},
   "outputs": [
    {
     "data": {
      "application/vnd.jupyter.widget-view+json": {
       "model_id": "74069d32e6784851b0884f80d7898ed6",
       "version_major": 2,
       "version_minor": 0
      },
      "text/plain": [
       "AppLayout(children=(HBox(children=(Label(value='Link:'), Checkbox(value=False, description='cmap'), Checkbox(v…"
      ]
     },
     "metadata": {},
     "output_type": "display_data"
    }
   ],
   "source": [
    "compare(data[0][0].T, data[1][0].T,\n",
    "     mode=\"y\",  # can be: x, y, z, v\n",
    "     ui_collapsed=True, background=(1, 1, 1),\n",
    "     shadow=False, cmap=cm.gray, annotations=False)"
   ]
  },
  {
   "cell_type": "code",
   "execution_count": null,
   "metadata": {},
   "outputs": [],
   "source": []
  }
 ],
 "metadata": {
  "kernelspec": {
   "display_name": "Python 3",
   "language": "python",
   "name": "python3"
  },
  "language_info": {
   "codemirror_mode": {
    "name": "ipython",
    "version": 3
   },
   "file_extension": ".py",
   "mimetype": "text/x-python",
   "name": "python",
   "nbconvert_exporter": "python",
   "pygments_lexer": "ipython3",
   "version": "3.7.6"
  }
 },
 "nbformat": 4,
 "nbformat_minor": 4
}
